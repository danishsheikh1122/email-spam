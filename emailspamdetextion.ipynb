{
  "cells": [
    {
      "cell_type": "code",
      "execution_count": 3,
      "metadata": {},
      "outputs": [
        {
          "name": "stderr",
          "output_type": "stream",
          "text": [
            "[nltk_data] Downloading package punkt to\n",
            "[nltk_data]     /Users/danishsheikh/nltk_data...\n",
            "[nltk_data]   Package punkt is already up-to-date!\n",
            "[nltk_data] Downloading package punkt_tab to\n",
            "[nltk_data]     /Users/danishsheikh/nltk_data...\n",
            "[nltk_data]   Package punkt_tab is already up-to-date!\n"
          ]
        },
        {
          "data": {
            "text/plain": [
              "True"
            ]
          },
          "execution_count": 3,
          "metadata": {},
          "output_type": "execute_result"
        }
      ],
      "source": [
        "import nltk\n",
        "nltk.download('punkt')\n",
        "nltk.download('punkt_tab')\n"
      ]
    },
    {
      "cell_type": "code",
      "execution_count": null,
      "metadata": {},
      "outputs": [
        {
          "name": "stderr",
          "output_type": "stream",
          "text": [
            "WARNING:absl:Compiled the loaded model, but the compiled metrics have yet to be built. `model.compile_metrics` will be empty until you train or evaluate the model.\n",
            "[nltk_data] Downloading package punkt to\n",
            "[nltk_data]     /Users/danishsheikh/nltk_data...\n",
            "[nltk_data]   Package punkt is already up-to-date!\n",
            "[nltk_data] Downloading package stopwords to\n",
            "[nltk_data]     /Users/danishsheikh/nltk_data...\n",
            "[nltk_data]   Package stopwords is already up-to-date!\n",
            "No matching processes belonging to you were found\n"
          ]
        },
        {
          "name": "stdout",
          "output_type": "stream",
          "text": [
            "Public URL: https://1560-117-240-136-4.ngrok-free.app\n"
          ]
        },
        {
          "name": "stderr",
          "output_type": "stream",
          "text": [
            "INFO:     Started server process [29520]\n",
            "INFO:     Waiting for application startup.\n",
            "INFO:     Application startup complete.\n",
            "INFO:     Uvicorn running on http://0.0.0.0:8000 (Press CTRL+C to quit)\n"
          ]
        },
        {
          "name": "stdout",
          "output_type": "stream",
          "text": [
            "\u001b[1m1/1\u001b[0m \u001b[32m━━━━━━━━━━━━━━━━━━━━\u001b[0m\u001b[37m\u001b[0m \u001b[1m0s\u001b[0m 326ms/step\n",
            "INFO:     13.220.13.14:0 - \"POST /predict HTTP/1.1\" 200 OK\n"
          ]
        },
        {
          "name": "stderr",
          "output_type": "stream",
          "text": [
            "ERROR:pyngrok.process.ngrok:t=2025-05-10T10:36:41+0530 lvl=eror msg=\"heartbeat timeout, terminating session\" obj=tunnels.session obj=csess id=9983faf888a3 clientid=98b829bb46d051bd2f776d132d88be85\n",
            "ERROR:pyngrok.process.ngrok:t=2025-05-10T10:36:41+0530 lvl=eror msg=\"session closed, starting reconnect loop\" obj=tunnels.session obj=csess id=a9ba6b712987 err=\"session closed\"\n",
            "ERROR:pyngrok.process.ngrok:t=2025-05-10T10:36:41+0530 lvl=eror msg=\"failed to reconnect session\" obj=tunnels.session err=\"failed to dial ngrok server with address \\\"connect.ngrok-agent.com:443\\\": dial tcp: lookup connect.ngrok-agent.com: no such host\"\n",
            "ERROR:pyngrok.process.ngrok:t=2025-05-10T10:36:42+0530 lvl=eror msg=\"failed to reconnect session\" obj=tunnels.session err=\"failed to dial ngrok server with address \\\"connect.ngrok-agent.com:443\\\": dial tcp: lookup connect.ngrok-agent.com: no such host\"\n",
            "ERROR:pyngrok.process.ngrok:t=2025-05-10T10:36:43+0530 lvl=eror msg=\"failed to reconnect session\" obj=tunnels.session err=\"failed to dial ngrok server with address \\\"connect.ngrok-agent.com:443\\\": dial tcp: lookup connect.ngrok-agent.com: no such host\"\n",
            "ERROR:pyngrok.process.ngrok:t=2025-05-10T10:36:45+0530 lvl=eror msg=\"failed to reconnect session\" obj=tunnels.session err=\"failed to dial ngrok server with address \\\"connect.ngrok-agent.com:443\\\": dial tcp: lookup connect.ngrok-agent.com: no such host\"\n",
            "ERROR:pyngrok.process.ngrok:t=2025-05-10T10:37:46+0530 lvl=eror msg=\"failed to reconnect session\" obj=tunnels.session err=\"failed to dial ngrok server with address \\\"connect.ngrok-agent.com:443\\\": dial tcp: lookup connect.ngrok-agent.com: no such host\"\n",
            "ERROR:pyngrok.process.ngrok:t=2025-05-10T10:38:34+0530 lvl=eror msg=\"failed to reconnect session\" obj=tunnels.session err=\"failed to dial ngrok server with address \\\"connect.ngrok-agent.com:443\\\": dial tcp: lookup connect.ngrok-agent.com: no such host\"\n",
            "ERROR:pyngrok.process.ngrok:t=2025-05-10T10:38:50+0530 lvl=eror msg=\"failed to reconnect session\" obj=tunnels.session err=\"failed to dial ngrok server with address \\\"connect.ngrok-agent.com:443\\\": dial tcp: lookup connect.ngrok-agent.com: no such host\"\n",
            "ERROR:pyngrok.process.ngrok:t=2025-05-10T11:04:18+0530 lvl=eror msg=\"failed to reconnect session\" obj=tunnels.session err=\"failed to dial ngrok server with address \\\"connect.ngrok-agent.com:443\\\": dial tcp: lookup connect.ngrok-agent.com: no such host\"\n",
            "ERROR:pyngrok.process.ngrok:t=2025-05-10T11:08:53+0530 lvl=eror msg=\"failed to reconnect session\" obj=tunnels.session err=\"failed to dial ngrok server with address \\\"connect.ngrok-agent.com:443\\\": dial tcp: lookup connect.ngrok-agent.com: no such host\"\n"
          ]
        },
        {
          "name": "stdout",
          "output_type": "stream",
          "text": [
            "\u001b[1m1/1\u001b[0m \u001b[32m━━━━━━━━━━━━━━━━━━━━\u001b[0m\u001b[37m\u001b[0m \u001b[1m0s\u001b[0m 116ms/step\n",
            "INFO:     3.80.197.206:0 - \"POST /predict HTTP/1.1\" 200 OK\n",
            "\u001b[1m1/1\u001b[0m \u001b[32m━━━━━━━━━━━━━━━━━━━━\u001b[0m\u001b[37m\u001b[0m \u001b[1m0s\u001b[0m 35ms/step\n",
            "INFO:     3.85.129.201:0 - \"POST /predict HTTP/1.1\" 200 OK\n",
            "\u001b[1m1/1\u001b[0m \u001b[32m━━━━━━━━━━━━━━━━━━━━\u001b[0m\u001b[37m\u001b[0m \u001b[1m0s\u001b[0m 35ms/step\n",
            "INFO:     3.80.197.206:0 - \"POST /predict HTTP/1.1\" 200 OK\n",
            "\u001b[1m1/1\u001b[0m \u001b[32m━━━━━━━━━━━━━━━━━━━━\u001b[0m\u001b[37m\u001b[0m \u001b[1m0s\u001b[0m 120ms/step\n",
            "INFO:     18.232.177.221:0 - \"POST /predict HTTP/1.1\" 200 OK\n",
            "\u001b[1m1/1\u001b[0m \u001b[32m━━━━━━━━━━━━━━━━━━━━\u001b[0m\u001b[37m\u001b[0m \u001b[1m0s\u001b[0m 45ms/step\n",
            "INFO:     34.229.253.41:0 - \"POST /predict HTTP/1.1\" 200 OK\n",
            "\u001b[1m1/1\u001b[0m \u001b[32m━━━━━━━━━━━━━━━━━━━━\u001b[0m\u001b[37m\u001b[0m \u001b[1m0s\u001b[0m 110ms/step\n",
            "INFO:     18.232.177.221:0 - \"POST /predict HTTP/1.1\" 200 OK\n"
          ]
        },
        {
          "name": "stderr",
          "output_type": "stream",
          "text": [
            "ERROR:pyngrok.process.ngrok:t=2025-05-10T11:46:02+0530 lvl=eror msg=\"heartbeat timeout, terminating session\" obj=tunnels.session obj=csess id=5bf58a695c08 clientid=98b829bb46d051bd2f776d132d88be85\n",
            "ERROR:pyngrok.process.ngrok:t=2025-05-10T11:46:02+0530 lvl=eror msg=\"session closed, starting reconnect loop\" obj=tunnels.session obj=csess id=a9ba6b712987 err=\"session closed\"\n"
          ]
        },
        {
          "name": "stdout",
          "output_type": "stream",
          "text": [
            "\u001b[1m1/1\u001b[0m \u001b[32m━━━━━━━━━━━━━━━━━━━━\u001b[0m\u001b[37m\u001b[0m \u001b[1m0s\u001b[0m 92ms/step\n",
            "INFO:     54.89.219.168:0 - \"POST /predict HTTP/1.1\" 200 OK\n"
          ]
        },
        {
          "name": "stderr",
          "output_type": "stream",
          "text": [
            "ERROR:pyngrok.process.ngrok:t=2025-05-10T12:25:28+0530 lvl=eror msg=\"heartbeat timeout, terminating session\" obj=tunnels.session obj=csess id=528b62a2ae1d clientid=98b829bb46d051bd2f776d132d88be85\n",
            "ERROR:pyngrok.process.ngrok:t=2025-05-10T12:25:28+0530 lvl=eror msg=\"session closed, starting reconnect loop\" obj=tunnels.session obj=csess id=a9ba6b712987 err=\"session closed\"\n"
          ]
        },
        {
          "name": "stdout",
          "output_type": "stream",
          "text": [
            "\u001b[1m1/1\u001b[0m \u001b[32m━━━━━━━━━━━━━━━━━━━━\u001b[0m\u001b[37m\u001b[0m \u001b[1m0s\u001b[0m 109ms/step\n",
            "INFO:     34.238.190.184:0 - \"POST /predict HTTP/1.1\" 200 OK\n",
            "\u001b[1m1/1\u001b[0m \u001b[32m━━━━━━━━━━━━━━━━━━━━\u001b[0m\u001b[37m\u001b[0m \u001b[1m0s\u001b[0m 30ms/step\n",
            "INFO:     35.153.144.238:0 - \"POST /predict HTTP/1.1\" 200 OK\n",
            "\u001b[1m1/1\u001b[0m \u001b[32m━━━━━━━━━━━━━━━━━━━━\u001b[0m\u001b[37m\u001b[0m \u001b[1m0s\u001b[0m 31ms/step\n",
            "INFO:     44.200.136.184:0 - \"POST /predict HTTP/1.1\" 200 OK\n",
            "\u001b[1m1/1\u001b[0m \u001b[32m━━━━━━━━━━━━━━━━━━━━\u001b[0m\u001b[37m\u001b[0m \u001b[1m0s\u001b[0m 34ms/step\n",
            "INFO:     34.238.190.184:0 - \"POST /predict HTTP/1.1\" 200 OK\n",
            "\u001b[1m1/1\u001b[0m \u001b[32m━━━━━━━━━━━━━━━━━━━━\u001b[0m\u001b[37m\u001b[0m \u001b[1m0s\u001b[0m 33ms/step\n",
            "INFO:     44.201.58.125:0 - \"POST /predict HTTP/1.1\" 200 OK\n"
          ]
        },
        {
          "name": "stderr",
          "output_type": "stream",
          "text": [
            "ERROR:pyngrok.process.ngrok:t=2025-05-10T13:09:37+0530 lvl=eror msg=\"session closed, starting reconnect loop\" obj=tunnels.session obj=csess id=a9ba6b712987 err=\"read EOF from remote peer\"\n",
            "ERROR:pyngrok.process.ngrok:t=2025-05-10T13:14:03+0530 lvl=eror msg=\"heartbeat timeout, terminating session\" obj=tunnels.session obj=csess id=7649d7964327 clientid=98b829bb46d051bd2f776d132d88be85\n",
            "ERROR:pyngrok.process.ngrok:t=2025-05-10T13:14:26+0530 lvl=eror msg=\"heartbeat timeout, terminating session\" obj=tunnels.session obj=csess id=65b9329ee960 clientid=98b829bb46d051bd2f776d132d88be85\n",
            "ERROR:pyngrok.process.ngrok:t=2025-05-10T13:14:26+0530 lvl=eror msg=\"session closed, starting reconnect loop\" obj=tunnels.session obj=csess id=a9ba6b712987 err=\"session closed\"\n",
            "ERROR:pyngrok.process.ngrok:t=2025-05-10T13:14:26+0530 lvl=eror msg=\"failed to reconnect session\" obj=tunnels.session err=\"failed to dial ngrok server with address \\\"connect.ngrok-agent.com:443\\\": dial tcp: lookup connect.ngrok-agent.com: no such host\"\n",
            "ERROR:pyngrok.process.ngrok:t=2025-05-10T13:14:26+0530 lvl=eror msg=\"failed to reconnect session\" obj=tunnels.session err=\"failed to dial ngrok server with address \\\"connect.ngrok-agent.com:443\\\": dial tcp: lookup connect.ngrok-agent.com: no such host\"\n",
            "ERROR:pyngrok.process.ngrok:t=2025-05-10T13:14:27+0530 lvl=eror msg=\"failed to reconnect session\" obj=tunnels.session err=\"failed to dial ngrok server with address \\\"connect.ngrok-agent.com:443\\\": dial tcp: lookup connect.ngrok-agent.com: no such host\"\n",
            "ERROR:pyngrok.process.ngrok:t=2025-05-10T13:14:29+0530 lvl=eror msg=\"failed to reconnect session\" obj=tunnels.session err=\"failed to dial ngrok server with address \\\"connect.ngrok-agent.com:443\\\": dial tcp: lookup connect.ngrok-agent.com: no such host\"\n",
            "ERROR:pyngrok.process.ngrok:t=2025-05-10T13:14:33+0530 lvl=eror msg=\"failed to reconnect session\" obj=tunnels.session err=\"failed to dial ngrok server with address \\\"connect.ngrok-agent.com:443\\\": dial tcp: lookup connect.ngrok-agent.com: no such host\"\n",
            "ERROR:pyngrok.process.ngrok:t=2025-05-10T13:14:41+0530 lvl=eror msg=\"failed to reconnect session\" obj=tunnels.session err=\"failed to dial ngrok server with address \\\"connect.ngrok-agent.com:443\\\": dial tcp: lookup connect.ngrok-agent.com: no such host\"\n",
            "ERROR:pyngrok.process.ngrok:t=2025-05-10T13:31:27+0530 lvl=eror msg=\"failed to reconnect session\" obj=tunnels.session err=\"failed to dial ngrok server with address \\\"connect.ngrok-agent.com:443\\\": dial tcp: lookup connect.ngrok-agent.com: no such host\"\n",
            "ERROR:pyngrok.process.ngrok:t=2025-05-10T13:51:42+0530 lvl=eror msg=\"failed to reconnect session\" obj=tunnels.session err=\"failed to dial ngrok server with address \\\"connect.ngrok-agent.com:443\\\": dial tcp: lookup connect.ngrok-agent.com: no such host\"\n",
            "ERROR:pyngrok.process.ngrok:t=2025-05-10T14:46:50+0530 lvl=eror msg=\"failed to reconnect session\" obj=tunnels.session err=\"failed to dial ngrok server with address \\\"connect.ngrok-agent.com:443\\\": dial tcp: lookup connect.ngrok-agent.com: no such host\"\n",
            "ERROR:pyngrok.process.ngrok:t=2025-05-10T16:42:56+0530 lvl=eror msg=\"heartbeat timeout, terminating session\" obj=tunnels.session obj=csess id=73db84f67f28 clientid=98b829bb46d051bd2f776d132d88be85\n",
            "ERROR:pyngrok.process.ngrok:t=2025-05-10T16:42:56+0530 lvl=eror msg=\"session closed, starting reconnect loop\" obj=tunnels.session obj=csess id=a9ba6b712987 err=\"session closed\"\n",
            "ERROR:pyngrok.process.ngrok:t=2025-05-10T16:42:57+0530 lvl=eror msg=\"session closed, starting reconnect loop\" obj=tunnels.session obj=csess id=a9ba6b712987 err=\"read EOF from remote peer\"\n",
            "ERROR:pyngrok.process.ngrok:t=2025-05-10T17:43:16+0530 lvl=eror msg=\"session closed, starting reconnect loop\" obj=tunnels.session obj=csess id=a9ba6b712987 err=\"read EOF from remote peer\"\n",
            "ERROR:pyngrok.process.ngrok:t=2025-05-10T17:43:29+0530 lvl=eror msg=\"heartbeat timeout, terminating session\" obj=tunnels.session obj=csess id=f6215fb061d0 clientid=98b829bb46d051bd2f776d132d88be85\n",
            "ERROR:pyngrok.process.ngrok:t=2025-05-10T17:43:30+0530 lvl=eror msg=\"heartbeat timeout, terminating session\" obj=tunnels.session obj=csess id=3ccb60daea3c clientid=98b829bb46d051bd2f776d132d88be85\n"
          ]
        }
      ],
      "source": [
        "import uvicorn\n",
        "from fastapi import FastAPI\n",
        "from pydantic import BaseModel\n",
        "import tensorflow as tf\n",
        "import numpy as np\n",
        "import pickle\n",
        "from nltk.tokenize import word_tokenize\n",
        "from nltk.corpus import stopwords\n",
        "import re\n",
        "import nltk\n",
        "import nest_asyncio\n",
        "from pyngrok import ngrok\n",
        "\n",
        "# Initialize FastAPI\n",
        "app = FastAPI()\n",
        "\n",
        "# Load Model and Tokenizer\n",
        "model = tf.keras.models.load_model(\"/Users/danishsheikh/Desktop/email spam/spam_model.h5\")\n",
        "with open(\"/Users/danishsheikh/Desktop/email spam/tokenizer.pickle\", \"rb\") as handle:\n",
        "    tokenizer = pickle.load(handle)\n",
        "\n",
        "# Download NLTK Resources\n",
        "nltk.download(\"punkt\")\n",
        "nltk.download(\"stopwords\")\n",
        "\n",
        "# Define Pydantic Model for Input\n",
        "class InputText(BaseModel):\n",
        "    text: str\n",
        "\n",
        "# Preprocessing Function\n",
        "def clean_text(text):\n",
        "    text = text.lower()\n",
        "    text = re.sub(r'\\W+', ' ', text)  # Remove non-word characters\n",
        "    text = word_tokenize(text)        # Tokenize\n",
        "    stop_words = set(stopwords.words('english'))\n",
        "    text = [word for word in text if word not in stop_words]  # Remove stopwords\n",
        "    return \" \".join(text)\n",
        "\n",
        "# Prediction Function\n",
        "def predict_spam(text):\n",
        "    text = clean_text(text)\n",
        "    seq = tokenizer.texts_to_sequences([text])\n",
        "    padded = tf.keras.preprocessing.sequence.pad_sequences(seq, maxlen=100)\n",
        "    prediction = model.predict(padded)\n",
        "    return \"Spam\" if prediction[0] > 0.5 else \"Not Spam\"\n",
        "\n",
        "# FastAPI Routes\n",
        "@app.get(\"/\")\n",
        "def home():\n",
        "    return {\"message\": \"Spam Detection API is running\"}\n",
        "\n",
        "@app.post(\"/predict\")\n",
        "def predict(input: InputText):\n",
        "    result = predict_spam(input.text)\n",
        "    return {\"prediction\": result}\n",
        "\n",
        "# Run Server in Colab\n",
        "nest_asyncio.apply()\n",
        "\n",
        "# Kill any running ngrok sessions\n",
        "import os\n",
        "os.system(\"killall ngrok\")\n",
        "\n",
        "# Start ngrok tunnel\n",
        "ngrok_tunnel = ngrok.connect(8000)\n",
        "print(f\"Public URL: {ngrok_tunnel.public_url}\")\n",
        "\n",
        "uvicorn.run(app, host=\"0.0.0.0\", port=8000)\n"
      ]
    }
  ],
  "metadata": {
    "colab": {
      "provenance": []
    },
    "kernelspec": {
      "display_name": "Python 3",
      "name": "python3"
    },
    "language_info": {
      "codemirror_mode": {
        "name": "ipython",
        "version": 3
      },
      "file_extension": ".py",
      "mimetype": "text/x-python",
      "name": "python",
      "nbconvert_exporter": "python",
      "pygments_lexer": "ipython3",
      "version": "3.12.4"
    }
  },
  "nbformat": 4,
  "nbformat_minor": 0
}
